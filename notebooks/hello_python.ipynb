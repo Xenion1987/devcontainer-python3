# %% [markdown]
#  My first static command

# %%
print("Hello Python")


# %% [markdown]
#  My first variable

# %%
msg = "Hello Python"
print(msg)


# %% [markdown]
#  My first chained string variables

# %%
var1 = "Hello"
var2 = "Python"
print(var1 + " " + var2)


# %% [markdown]
#  My first chained string variables (a different way)

# %%
var1, var2 = "Hello", "Python"
var3 = var1 + " " + var2
print(var3)


# %% [markdown]
#  My first chained string variables "the python way"

# %%
var1, var2 = "Hello", "Python"
print(var1, var2)


# %% [markdown]
#  My first chained string variables "the python way" and optional separator

# %%
var1, var2 = "Hello", "Python"
print(var1, var2, sep=";")

